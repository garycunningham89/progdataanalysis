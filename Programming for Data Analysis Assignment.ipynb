{
 "cells": [
  {
   "cell_type": "markdown",
   "metadata": {},
   "source": [
    "Programming for Data Analysis Assignment on the numpy.random package in Python.\n",
    "The tasks due to be covered are outlined as follows;\n",
    "1. Explain the overall purpose of the package\n",
    "2. Explain the use of the “Simple random data” and “Permutations” functions.\n",
    "3. Explain the use and purpose of at least five “Distributions” functions.\n",
    "4. Explain the use of seeds in generating pseudorandom numbers.\n"
   ]
  },
  {
   "cell_type": "markdown",
   "metadata": {},
   "source": [
    "https://numpy.org/doc/1.17/reference/random/index.html - reference\n",
    "Explanation - \"Numpy’s random number routines produce pseudo random numbers using combinations of a BitGenerator to create sequences and a Generator to use those sequences to sample from different statistical distributions:\n",
    "\n",
    "BitGenerators: Objects that generate random numbers. These are typically unsigned integer words filled with sequences of either 32 or 64 random bits.\n",
    "Generators: Objects that transform sequences of random bits from a BitGenerator into sequences of numbers that follow a specific probability distribution (such as uniform, Normal or Binomial) within a specified interval."
   ]
  },
  {
   "cell_type": "markdown",
   "metadata": {},
   "source": [
    "https://www.investopedia.com/terms/s/simple-random-sample.asp\n",
    "What Is a Simple Random Sample?\n",
    "A simple random sample is a subset of a statistical population in which each member of the subset has an equal probability of being chosen. A simple random sample is meant to be an unbiased representation of a group."
   ]
  },
  {
   "cell_type": "markdown",
   "metadata": {},
   "source": [
    "Simple random data - https://docs.scipy.org/doc/numpy-1.14.0/reference/routines.random.html\n",
    "rand(d0, d1, ..., dn)\tRandom values in a given shape.\n",
    "randn(d0, d1, ..., dn)\tReturn a sample (or samples) from the “standard normal” distribution.\n",
    "randint(low[, high, size, dtype])\tReturn random integers from low (inclusive) to high (exclusive).\n",
    "random_integers(low[, high, size])\tRandom integers of type np.int between low and high, inclusive.\n",
    "random_sample([size])\tReturn random floats in the half-open interval [0.0, 1.0).\n",
    "random([size])\tReturn random floats in the half-open interval [0.0, 1.0).\n",
    "ranf([size])\tReturn random floats in the half-open interval [0.0, 1.0).\n",
    "sample([size])\tReturn random floats in the half-open interval [0.0, 1.0).\n",
    "choice(a[, size, replace, p])\tGenerates a random sample from a given 1-D array\n",
    "bytes(length)\tReturn random bytes."
   ]
  },
  {
   "cell_type": "markdown",
   "metadata": {},
   "source": [
    "Permutations - https://docs.scipy.org/doc/numpy-1.14.0/reference/routines.random.html#simple-random-data\n",
    "shuffle(x)\tModify a sequence in-place by shuffling its contents.\n",
    "permutation(x)\tRandomly permute a sequence, or return a permuted range."
   ]
  },
  {
   "cell_type": "markdown",
   "metadata": {},
   "source": [
    "https://docs.scipy.org/doc/numpy-1.14.0/reference/generated/numpy.random.permutation.html"
   ]
  },
  {
   "cell_type": "markdown",
   "metadata": {},
   "source": [
    "#####Distributions - https://docs.scipy.org/doc/numpy-1.14.0/reference/routines.random.html#simple-random-data\n",
    "beta(a, b[, size])\tDraw samples from a Beta distribution.\n",
    "binomial(n, p[, size])\tDraw samples from a binomial distribution.\n",
    "chisquare(df[, size])\tDraw samples from a chi-square distribution.\n",
    "dirichlet(alpha[, size])\tDraw samples from the Dirichlet distribution.\n",
    "exponential([scale, size])\tDraw samples from an exponential distribution.\n",
    "f(dfnum, dfden[, size])\tDraw samples from an F distribution.\n",
    "gamma(shape[, scale, size])\tDraw samples from a Gamma distribution.\n",
    "geometric(p[, size])\tDraw samples from the geometric distribution.\n",
    "gumbel([loc, scale, size])\tDraw samples from a Gumbel distribution.\n",
    "hypergeometric(ngood, nbad, nsample[, size])\tDraw samples from a Hypergeometric distribution.\n",
    "laplace([loc, scale, size])\tDraw samples from the Laplace or double exponential distribution with specified location (or mean) and scale (decay).\n",
    "logistic([loc, scale, size])\tDraw samples from a logistic distribution.\n",
    "lognormal([mean, sigma, size])\tDraw samples from a log-normal distribution.\n",
    "logseries(p[, size])\tDraw samples from a logarithmic series distribution.\n",
    "multinomial(n, pvals[, size])\tDraw samples from a multinomial distribution.\n",
    "multivariate_normal(mean, cov[, size, ...)\tDraw random samples from a multivariate normal distribution.\n",
    "negative_binomial(n, p[, size])\tDraw samples from a negative binomial distribution.\n",
    "noncentral_chisquare(df, nonc[, size])\tDraw samples from a noncentral chi-square distribution.\n",
    "noncentral_f(dfnum, dfden, nonc[, size])\tDraw samples from the noncentral F distribution.\n",
    "normal([loc, scale, size])\tDraw random samples from a normal (Gaussian) distribution.\n",
    "pareto(a[, size])\tDraw samples from a Pareto II or Lomax distribution with specified shape.\n",
    "poisson([lam, size])\tDraw samples from a Poisson distribution.\n",
    "power(a[, size])\tDraws samples in [0, 1] from a power distribution with positive exponent a - 1.\n",
    "rayleigh([scale, size])\tDraw samples from a Rayleigh distribution.\n",
    "standard_cauchy([size])\tDraw samples from a standard Cauchy distribution with mode = 0.\n",
    "standard_exponential([size])\tDraw samples from the standard exponential distribution.\n",
    "standard_gamma(shape[, size])\tDraw samples from a standard Gamma distribution.\n",
    "standard_normal([size])\tDraw samples from a standard Normal distribution (mean=0, stdev=1).\n",
    "standard_t(df[, size])\tDraw samples from a standard Student’s t distribution with df degrees of freedom.\n",
    "triangular(left, mode, right[, size])\tDraw samples from the triangular distribution over the interval [left, right].\n",
    "uniform([low, high, size])\tDraw samples from a uniform distribution.\n",
    "vonmises(mu, kappa[, size])\tDraw samples from a von Mises distribution.\n",
    "wald(mean, scale[, size])\tDraw samples from a Wald, or inverse Gaussian, distribution.\n",
    "weibull(a[, size])\tDraw samples from a Weibull distribution.\n",
    "zipf(a[, size])\tDraw samples from a Zipf distribution."
   ]
  },
  {
   "cell_type": "markdown",
   "metadata": {},
   "source": [
    "###Random generator https://docs.scipy.org/doc/numpy-1.14.0/reference/routines.random.html#simple-random-data\n",
    "RandomState\tContainer for the Mersenne Twister pseudo-random number generator.\n",
    "seed([seed])\tSeed the generator.\n",
    "get_state()\tReturn a tuple representing the internal state of the generator.\n",
    "set_state(state)\tSet the internal state of the generator from a tuple."
   ]
  },
  {
   "cell_type": "markdown",
   "metadata": {},
   "source": [
    "\n",
    "https://www.geeksforgeeks.org/random-sampling-in-numpy-random_sample-function/amp/\n",
    "Code #1 :\n",
    "\n",
    "# Python program explaining\n",
    "# numpy.random.sample() function\n",
    "  \n",
    "# importing numpy\n",
    "import numpy as geek\n",
    "  \n",
    "# output random value\n",
    "out_val = geek.random.random_sample()\n",
    "print (\"Output random float value : \", out_val) \n",
    "Output :\n",
    "Output random float value :  0.9211987310893188\n",
    " \n",
    "\n",
    "Code #2 :\n",
    "\n",
    "# Python program explaining\n",
    "# numpy.random.random_sample() function\n",
    "  \n",
    "# importing numpy\n",
    "import numpy as geek\n",
    "  \n",
    "  \n",
    "# output array\n",
    "out_arr = geek.random.random_sample(size =(1, 3))\n",
    "print (\"Output 2D Array filled with random floats : \", out_arr) \n",
    "Output :\n",
    "Output 2D Array filled with random floats :  [[ 0.64325146  0.4699456   0.89895437]]\n",
    " \n",
    "Code #3 :\n",
    "\n",
    "# Python program explaining\n",
    "# numpy.random.random_sample() function\n",
    "  \n",
    "# importing numpy\n",
    "import numpy as geek\n",
    "  \n",
    "# output array\n",
    "out_arr = geek.random.random_sample((3, 2, 1))\n",
    "print (\"Output 3D Array filled with random floats : \", out_arr) \n",
    "Output :\n",
    "Output 3D Array filled with random floats :  [[[ 0.78245025]\n",
    "  [ 0.77736746]]\n",
    "\n",
    " [[ 0.54389267]\n",
    "  [ 0.18491758]]\n",
    "\n",
    " [[ 0.97428409]\n",
    "  [ 0.73729256]]]\n",
    " "
   ]
  },
  {
   "cell_type": "markdown",
   "metadata": {},
   "source": [
    "https://machinelearningmastery.com/how-to-generate-random-numbers-in-python/\n",
    "\n",
    "How to Generate Random Numbers in Python\n",
    "Tutorial Overview\n",
    "This tutorial is divided into 3 parts; they are:\n",
    "\n",
    "Pseudorandom Number Generators\n",
    "Random Numbers with Python\n",
    "Random Numbers with NumPy"
   ]
  }
 ],
 "metadata": {
  "kernelspec": {
   "display_name": "Python 3",
   "language": "python",
   "name": "python3"
  },
  "language_info": {
   "codemirror_mode": {
    "name": "ipython",
    "version": 3
   },
   "file_extension": ".py",
   "mimetype": "text/x-python",
   "name": "python",
   "nbconvert_exporter": "python",
   "pygments_lexer": "ipython3",
   "version": "3.7.3"
  }
 },
 "nbformat": 4,
 "nbformat_minor": 2
}
