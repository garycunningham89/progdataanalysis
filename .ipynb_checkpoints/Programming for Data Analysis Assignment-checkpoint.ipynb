{
 "cells": [
  {
   "cell_type": "markdown",
   "metadata": {},
   "source": [
    "# Programming for Data Analysis Assignment on the numpy.random package in Python.\n",
    "### Lecturer: Brian McGinley\n",
    "### Submission Date: 18/11/2019\n",
    "\n",
    "# Introduction\n",
    "The tasks due to be covered as per the assignment sheet are outlined as follows;\n",
    "\n",
    "a) Explain the overall purpose of the package\n",
    "\n",
    "b) Explain the use of the “Simple random data” and “Permutations” functions.\n",
    "\n",
    "c) Explain the use and purpose of some “Distributions” functions.\n",
    "\n",
    "d) Explain the use of seeds in generating pseudorandom numbers."
   ]
  },
  {
   "cell_type": "markdown",
   "metadata": {},
   "source": [
    "# a. Overall Purpose of the numpy.random Package in Python\n",
    "##### Random\n",
    "To explain the numpy.random package it could be beneficial to explain its base module in Python adapted from SciPy docs and NumPy.org tutorials. \n",
    "\n",
    "The programs all utlise what is known as a pseudorandom number generator to provide the random numbers which are returned. \"Pseudorandomness is a sample of numbers that look close to random, but were generated using a deterministic process\" (Brownlee, 2019) and the logic, use and purpose of pseudorandomness and pseudorandom number generators (PRNG) will be discussed later. Python uses a PRNG known as the Mersenne Twister.\n",
    "\n",
    "Firstly, the random module produces a random number and random() is the basic function called for. Many functions within the random thereafter are dependant on random() within the module. \n",
    "\n",
    "It returns a random floating point number within the range [0.0, 1.0] and can be used in Python by using the following code structure; "
   ]
  },
  {
   "cell_type": "code",
   "execution_count": 5,
   "metadata": {},
   "outputs": [
    {
     "name": "stdout",
     "output_type": "stream",
     "text": [
      "Generating a random number within the range [0.0, 1.0] as explained using random.random()\n",
      "0.5479062961083409\n"
     ]
    }
   ],
   "source": [
    "import random\n",
    "print(\"Generating a random number within the range [0.0, 1.0] as explained using random.random()\")\n",
    "print(random.random())"
   ]
  },
  {
   "cell_type": "code",
   "execution_count": 1,
   "metadata": {},
   "outputs": [
    {
     "name": "stdout",
     "output_type": "stream",
     "text": [
      "Generating a different random number within the range [0.0, 1.0] than the above as explained using random.random()\n",
      "0.9766846304494113\n"
     ]
    }
   ],
   "source": [
    "import random\n",
    "print(\"Generating a different random number within the range [0.0, 1.0] than the above as explained using random.random()\")\n",
    "print(random.random())"
   ]
  },
  {
   "cell_type": "markdown",
   "metadata": {},
   "source": [
    "As seen the number is within the range above and each time it is run the number randomly generates a new number.\n",
    "\n",
    "##### NumPy\n",
    "\n",
    "NumPy is an abbreviation of numerical python and it is \"a library consisting of multidimensional array objects and a collection of routines for processing those arrays\" (Tutorialspoint,2019) including mathematical, logical, shape manipulation, sorting, selecting, I/O, discrete Fourier transforms, basic linear algebra, basic statistical operations, random simulation and much more\" (NumPy, 2017). It is \"one of the fundamental packages used for scientific computing in Python\" (Phuong and Czygan, 2015, p. 8). To import the NumPy package using Python we use the following (with some variation of np as long as it is consistent):"
   ]
  },
  {
   "cell_type": "code",
   "execution_count": 2,
   "metadata": {},
   "outputs": [],
   "source": [
    ">>> import numpy as np"
   ]
  },
  {
   "cell_type": "markdown",
   "metadata": {},
   "source": [
    "Primary Features of NumPy edited from SciPy's quickstart tutorial (2019):\n",
    "\n",
    "(i). NumPy's primary object is the multidimensional array.\n",
    "\n",
    "(ii). Its dimensions are called axes. \n",
    "\n",
    "(iii). The array class is called ndarray.\n",
    "\n",
    "(iv). Some of the main commands of an ndarray object (called using command >>> ndarray.\"#\") {# = words within \" \" hereafter};\n",
    "\n",
    "\"ndim\" = no. of axes in array.\n",
    "\n",
    "\"shape\" = dimensions in array in output form of (rows, columns).\n",
    "\n",
    "\"size\" = no. of elements in array.\n",
    "\n",
    "\"dtype\" = describing type of elements in array.\n",
    "\n",
    "\"reshape\" = alter rows and columns output.\n",
    "\n",
    "\"arange()\"= input array numerical amount in ().\n",
    "\n",
    "Please see the following example of NumPy;"
   ]
  },
  {
   "cell_type": "code",
   "execution_count": 4,
   "metadata": {},
   "outputs": [
    {
     "data": {
      "text/plain": [
       "array([[ 0,  1,  2,  3,  4],\n",
       "       [ 5,  6,  7,  8,  9],\n",
       "       [10, 11, 12, 13, 14],\n",
       "       [15, 16, 17, 18, 19]])"
      ]
     },
     "execution_count": 4,
     "metadata": {},
     "output_type": "execute_result"
    }
   ],
   "source": [
    ">>> a = np.arange(20).reshape(4, 5)\n",
    ">>> a"
   ]
  },
  {
   "cell_type": "code",
   "execution_count": 7,
   "metadata": {},
   "outputs": [
    {
     "data": {
      "text/plain": [
       "(4, 5)"
      ]
     },
     "execution_count": 7,
     "metadata": {},
     "output_type": "execute_result"
    }
   ],
   "source": [
    ">>> a.shape"
   ]
  },
  {
   "cell_type": "code",
   "execution_count": 8,
   "metadata": {},
   "outputs": [
    {
     "data": {
      "text/plain": [
       "2"
      ]
     },
     "execution_count": 8,
     "metadata": {},
     "output_type": "execute_result"
    }
   ],
   "source": [
    ">>> a.ndim"
   ]
  },
  {
   "cell_type": "code",
   "execution_count": 9,
   "metadata": {},
   "outputs": [
    {
     "data": {
      "text/plain": [
       "20"
      ]
     },
     "execution_count": 9,
     "metadata": {},
     "output_type": "execute_result"
    }
   ],
   "source": [
    ">>> a.size"
   ]
  },
  {
   "cell_type": "code",
   "execution_count": 6,
   "metadata": {},
   "outputs": [
    {
     "data": {
      "text/plain": [
       "numpy.ndarray"
      ]
     },
     "execution_count": 6,
     "metadata": {},
     "output_type": "execute_result"
    }
   ],
   "source": [
    ">>> type(a)"
   ]
  },
  {
   "cell_type": "code",
   "execution_count": 11,
   "metadata": {},
   "outputs": [
    {
     "data": {
      "text/plain": [
       "'int32'"
      ]
     },
     "execution_count": 11,
     "metadata": {},
     "output_type": "execute_result"
    }
   ],
   "source": [
    ">>> a.dtype.name"
   ]
  },
  {
   "cell_type": "markdown",
   "metadata": {},
   "source": [
    "##### Numpy vs. Python\n",
    "\n",
    "The primary differences between NumPy arrays and Python sequences as explained, and adapted from SciPy.org's page \"What is NumPy?\" are detailed hereafter to justify its uses and in an attempt to explain its purpose in regards this assignment;\n",
    "\n",
    "~ NumPy arrays are fixed in size, where changing size replaces the array whereas Python lists can grow.\n",
    "\n",
    "~ NumPy elements, for the most part, have to be the same data type meaning the same size in memory. When arrays of Python include NumPy objects this requirement changes allowing for alternate sized elements.\n",
    "\n",
    "~ NumPy allows for more in depth mathematical and other operations on large quantities of data, with efficiency emphasised and less code needed than for Python's sequences, most of the time.\n",
    "\n",
    "~ Like many of the primary packages, NumPy arrays are built into Python software packages and they convert the inputs to NumPy arrays and vice versa emphasising the importance of knowing both sequences for efficiency. \n",
    "\n",
    "~ NumPy supports an object-oriented approach and it allows a greater freedom to code in whichever paradigm or approach they see fit.\n",
    "\n",
    "This is merely a basic introduction to NumPy and its importance but there are many more elements and layers to the NumPy package which can be further explained and investigated. Further information and detailed documentation is contained withing the websites; NumPy.org or SciPy.org and many others."
   ]
  },
  {
   "cell_type": "markdown",
   "metadata": {},
   "source": [
    "##### NumPy Functions, Modules and Objects\n",
    "\n",
    "NumPy contains functions, modules and objects and the NumPy manual and quickstart tutorials can explain all the aspects within, but some of the primary NumPy controls are divided into the following as per the reference sheet on SciPy.org:\n",
    "\n",
    "- Array Objects\n",
    "- Universal Functions\n",
    "- Routines\n",
    "- Packaging\n",
    "- NumPy C-API\n",
    "- NumPy Internals\n",
    "- NumPy and SWIG.\n",
    "\n",
    "##### NumPy Routines\n",
    "\n",
    "For this assignment we are concerned with NumPy routines which are further subdivided in relation to their functionality, and explanations of such can be found within user guides of NumPy package;\n",
    "\n",
    "- Array Creation Routines\n",
    "- Array Manipulation Routines\n",
    "- Binary operations\n",
    "- String operations\n",
    "- C-Types Foreign Function Interface\n",
    "- Datetime Support Functions\n",
    "- Data type routines\n",
    "- Optionally Scipy-accelerated routines\n",
    "- Mathematical functions with automatic domain\n",
    "- Floating point error handling\n",
    "- Discrete Fourier transform\n",
    "- Financial Functions\n",
    "- Functional Programming\n",
    "- NumPy-specific help functions\n",
    "- Indexing routines\n",
    "- Input and output\n",
    "- Linear algebra\n",
    "- Logic functions\n",
    "- Masked array functions\n",
    "- Mathematical functions\n",
    "- Matrix library\n",
    "- Miscellaneous routines\n",
    "- Padding arrays\n",
    "- Polynomials\n",
    "- Random Sampling\n",
    "- Set routines\n",
    "- Sorting, searching and counting\n",
    "- Statistics\n",
    "- Test Support\n",
    "- Windows functions.\n",
    "\n",
    "\n",
    "# numpy.random\n",
    "\n",
    "\"An important part of any simulation is the ability to generate random numbers\" (Phuong and Czygan, 2015, p.8) and as such we are concerning ourselves with the random sampling routine within NumPy as listed above. There are various versions but the root of the NumPy package is [>>> numpy.random] after importing NumPy as above and NumPy uses the most common pseudorandom number generator (PRNG) to return random sampling of numbers, known as pseudorandom numbers, and it is called the Mersenne Twister (which will be discussed in the final section). An example of random sampling is displayed below; "
   ]
  },
  {
   "cell_type": "code",
   "execution_count": 41,
   "metadata": {},
   "outputs": [
    {
     "data": {
      "text/plain": [
       "array([0.04722731, 0.94975842, 0.45156508, 0.21591379, 0.54388535])"
      ]
     },
     "execution_count": 41,
     "metadata": {},
     "output_type": "execute_result"
    }
   ],
   "source": [
    ">>> import numpy as np\n",
    ">>> np.random.rand(5)"
   ]
  },
  {
   "cell_type": "markdown",
   "metadata": {},
   "source": [
    "The above example displays a random array of 5 numbers, as defined, between the range 0.00 and 1.00. \n",
    "\n",
    "The rand() function used with the root numpy.random returns random values in the given shape defined and is an example of one of the functions defined within the Simple Random Data subset. Within the routine numpy.random there are four subsets and they are the aforementioned Simple Random Date, Permutations, Distributions, and Random Generator and these will discussed hereafter."
   ]
  },
  {
   "cell_type": "markdown",
   "metadata": {},
   "source": [
    "# b. \"Simple Random Data\" and \"Permutations\" Functions.\n",
    "\n",
    "## Simple Random Data\n",
    "The Simple Random Data subset of the random sampling routine in the NumPy package concerns  \n",
    "\n",
    "If further information or help with numpy.random is required, one call input the following and a helpful inline manual appears to explain all functions within numpy.random.\n",
    "\n",
    "- help(np.random)\n",
    "\n",
    "The subset include the following functions which have a brief explanation (adapted from the SciPy.org and GeeksforGeeks reference manuals, with the direct quotation contained within the ReadMe) and an example of each function after the explanation;\n",
    "\n",
    "### rand() - returns random values in the given shape defined. \n",
    "\n",
    "The shape can be expanded from the above example by increasing the values inputted. In the following example rand() produces uniformly distributed random numbers between 0 and 1 in an array of 2D shape.\n",
    "\n"
   ]
  },
  {
   "cell_type": "code",
   "execution_count": 18,
   "metadata": {},
   "outputs": [
    {
     "data": {
      "text/plain": [
       "array([[0.58201979, 0.53737323],\n",
       "       [0.75861562, 0.10590761]])"
      ]
     },
     "execution_count": 18,
     "metadata": {},
     "output_type": "execute_result"
    }
   ],
   "source": [
    ">>> import numpy as np\n",
    ">>> np.random.rand(2, 2)"
   ]
  },
  {
   "cell_type": "markdown",
   "metadata": {},
   "source": [
    "### randn() -\tcreates an array of specified shape and fills it with random values using standard normal (Gaussian) distribution. "
   ]
  },
  {
   "cell_type": "code",
   "execution_count": 17,
   "metadata": {},
   "outputs": [
    {
     "name": "stdout",
     "output_type": "stream",
     "text": [
      "Creating 3D array with 2 random values: \n",
      " [[[-1.27814912  1.43737068]\n",
      "  [-0.07770457  1.08963016]]\n",
      "\n",
      " [[ 0.09654267  1.41866711]\n",
      "  [ 1.16827314  0.94718595]]]\n"
     ]
    }
   ],
   "source": [
    ">>> array = np.random.randn(2, 2, 2)\n",
    ">>> print(\"Creating 3D array with 2 random values: \\n\", array)"
   ]
  },
  {
   "cell_type": "markdown",
   "metadata": {},
   "source": [
    "### randint() - returns an array of inputted shape with random integers in range (low, high). The elements can be inputted as (low, high, size, datatype)."
   ]
  },
  {
   "cell_type": "code",
   "execution_count": 10,
   "metadata": {},
   "outputs": [
    {
     "data": {
      "text/plain": [
       "array([0, 4])"
      ]
     },
     "execution_count": 10,
     "metadata": {},
     "output_type": "execute_result"
    }
   ],
   "source": [
    ">>> np.random.randint(low = 0, high = 5, size = 2)"
   ]
  },
  {
   "cell_type": "markdown",
   "metadata": {},
   "source": [
    "### random_integers() - returns random integers of type np.int in style (low, high, size) between low and high, inclusive. Except a high does not have to be defined and the low can be thus the high as shown."
   ]
  },
  {
   "cell_type": "code",
   "execution_count": 11,
   "metadata": {},
   "outputs": [
    {
     "name": "stderr",
     "output_type": "stream",
     "text": [
      "C:\\Users\\Gary\\Anaconda3\\lib\\site-packages\\ipykernel_launcher.py:1: DeprecationWarning: This function is deprecated. Please call randint(1, 10 + 1) instead\n",
      "  \"\"\"Entry point for launching an IPython kernel.\n"
     ]
    },
    {
     "data": {
      "text/plain": [
       "array([[10,  6,  3,  2],\n",
       "       [ 6,  1,  2,  5],\n",
       "       [ 2,  6,  7,  6],\n",
       "       [ 8,  2,  6,  9]])"
      ]
     },
     "execution_count": 11,
     "metadata": {},
     "output_type": "execute_result"
    }
   ],
   "source": [
    ">>> np.random.random_integers(10, size=(4, 4))"
   ]
  },
  {
   "cell_type": "markdown",
   "metadata": {},
   "source": [
    "### random_sample(), ranf(), sample() and random() - Return random floats as a “continuous uniform” distribution over the inputted interval[0.0, 1.0]."
   ]
  },
  {
   "cell_type": "code",
   "execution_count": 12,
   "metadata": {},
   "outputs": [
    {
     "data": {
      "text/plain": [
       "array([0.44610465, 0.78844111, 0.914104  , 0.352539  ])"
      ]
     },
     "execution_count": 12,
     "metadata": {},
     "output_type": "execute_result"
    }
   ],
   "source": [
    ">>> np.random.random_sample(4)"
   ]
  },
  {
   "cell_type": "markdown",
   "metadata": {},
   "source": [
    "The random_sample(), ranf(), sample () and random() distributions and their sizes can edited using the format:\n",
    "\n",
    "- a * function((x,y)) b\n",
    "\n",
    "Where (b - a) * random_sample() + a.\n",
    "\n",
    "Thus the following is showing a 2 by 2 array in the range -10 and 10: "
   ]
  },
  {
   "cell_type": "code",
   "execution_count": 13,
   "metadata": {},
   "outputs": [
    {
     "data": {
      "text/plain": [
       "array([[ 4.2593069 , -6.76771306],\n",
       "       [-5.58549667, -6.66575173]])"
      ]
     },
     "execution_count": 13,
     "metadata": {},
     "output_type": "execute_result"
    }
   ],
   "source": [
    ">>> 20 * np.random.random_sample((2,2)) -10"
   ]
  },
  {
   "cell_type": "markdown",
   "metadata": {},
   "source": [
    "- Further to show the expansion using inputs in range [0.00, 1.00] the following examples were created;"
   ]
  },
  {
   "cell_type": "code",
   "execution_count": 15,
   "metadata": {},
   "outputs": [
    {
     "name": "stdout",
     "output_type": "stream",
     "text": [
      "Single or 1D Random Sample is:  0.2975346065444723\n"
     ]
    }
   ],
   "source": [
    ">>> import numpy as np\n",
    ">>> eg = np.random.sample()\n",
    ">>> print(\"Single or 1D Random Sample is: \", eg)"
   ]
  },
  {
   "cell_type": "code",
   "execution_count": 15,
   "metadata": {},
   "outputs": [
    {
     "name": "stdout",
     "output_type": "stream",
     "text": [
      "2D Random Sample is:  [0.89322921 0.27209046]\n"
     ]
    }
   ],
   "source": [
    ">>> eg = np.random.sample(2)\n",
    ">>> print(\"2D Random Sample is: \", eg)"
   ]
  },
  {
   "cell_type": "code",
   "execution_count": 16,
   "metadata": {},
   "outputs": [
    {
     "name": "stdout",
     "output_type": "stream",
     "text": [
      "3D Random Sample is:  [0.87818288 0.50225384 0.72160527]\n"
     ]
    }
   ],
   "source": [
    ">>> eg = np.random.sample(3)\n",
    ">>> print(\"3D Random Sample is: \", eg)"
   ]
  },
  {
   "cell_type": "markdown",
   "metadata": {},
   "source": [
    "### choice() - Generates a random sample from a given 1-D array. The format is in the following with defaults outlined;\n",
    "\n",
    "[a = input],\n",
    "\n",
    "[size = size of array], \n",
    "\n",
    "[replace is the boolean expression type for replacing, i.e. true/false]\n",
    "\n",
    "[p = probabilites in line with a, if none a uniform distribution is performed]\n",
    "\n",
    "numpy.random.choice(a, size = None, replace = True, p = None)"
   ]
  },
  {
   "cell_type": "code",
   "execution_count": 17,
   "metadata": {},
   "outputs": [
    {
     "data": {
      "text/plain": [
       "array([1, 2, 2, 0])"
      ]
     },
     "execution_count": 17,
     "metadata": {},
     "output_type": "execute_result"
    }
   ],
   "source": [
    ">>> np.random.choice(4,4) #similar to np.random.randint(0, 4, 4)"
   ]
  },
  {
   "cell_type": "markdown",
   "metadata": {},
   "source": [
    "Example including list of probabilities;"
   ]
  },
  {
   "cell_type": "code",
   "execution_count": 18,
   "metadata": {},
   "outputs": [
    {
     "data": {
      "text/plain": [
       "array([0, 2, 2, 2], dtype=int64)"
      ]
     },
     "execution_count": 18,
     "metadata": {},
     "output_type": "execute_result"
    }
   ],
   "source": [
    ">>> np.random.choice(4, 4, p=[0.1, 0.2, 0.3, 0.4])"
   ]
  },
  {
   "cell_type": "markdown",
   "metadata": {},
   "source": [
    "Example not using the replacement, using replace = False;"
   ]
  },
  {
   "cell_type": "code",
   "execution_count": 19,
   "metadata": {},
   "outputs": [
    {
     "data": {
      "text/plain": [
       "array([0, 2, 1, 3])"
      ]
     },
     "execution_count": 19,
     "metadata": {},
     "output_type": "execute_result"
    }
   ],
   "source": [
    ">>> np.random.choice(4, 4, replace = False, p=[0.1, 0.2, 0.3, 0.4])"
   ]
  },
  {
   "cell_type": "markdown",
   "metadata": {},
   "source": [
    "- bytes() - Returns a string of random bytes the length of the input."
   ]
  },
  {
   "cell_type": "code",
   "execution_count": 20,
   "metadata": {},
   "outputs": [
    {
     "data": {
      "text/plain": [
       "b'5/\\x16\\x0f\\xa7\\xa8N\\x1d{p'"
      ]
     },
     "execution_count": 20,
     "metadata": {},
     "output_type": "execute_result"
    }
   ],
   "source": [
    ">>> np.random.bytes(10)"
   ]
  },
  {
   "cell_type": "markdown",
   "metadata": {},
   "source": [
    "## Permutations\n",
    "\n",
    "NumPy's permutation module concerns ordering of a set of objects. These can be randomly generated or inputted and randomly orders. The greatest real life contextual example of random.permutation is shuffle a deck of card but in computing it can be used in coding theory, cryptography, and simulation.\n",
    "\n",
    "There are two functions concerned with permutations module. shuffle() and permutation() and these will attempt to explain the functionality further.\n",
    "### shuffle() - Modifies an array by shuffling its outputs. \n",
    "\n",
    "In the example, we use the arange() to create an array with input 20."
   ]
  },
  {
   "cell_type": "code",
   "execution_count": 24,
   "metadata": {},
   "outputs": [
    {
     "data": {
      "text/plain": [
       "array([ 0,  1,  2,  3,  4,  5,  6,  7,  8,  9, 10, 11, 12, 13, 14, 15, 16,\n",
       "       17, 18, 19])"
      ]
     },
     "execution_count": 24,
     "metadata": {},
     "output_type": "execute_result"
    }
   ],
   "source": [
    ">>> shuffexample = np.arange(20)\n",
    ">>> shuffexample"
   ]
  },
  {
   "cell_type": "code",
   "execution_count": 25,
   "metadata": {},
   "outputs": [
    {
     "data": {
      "text/plain": [
       "array([17, 13,  4, 14,  6,  0, 10,  5,  3, 15, 18,  1, 11,  7,  8, 12, 19,\n",
       "       16,  9,  2])"
      ]
     },
     "execution_count": 25,
     "metadata": {},
     "output_type": "execute_result"
    }
   ],
   "source": [
    ">>> np.random.shuffle(shuffexample)\n",
    ">>> shuffexample"
   ]
  },
  {
   "cell_type": "markdown",
   "metadata": {},
   "source": [
    "This example is one a single dimensional array. In multidimensional cases only the first axis is shuffled where the order in subsequent arrays changes but contents remain the same. For the example we use reshape to make the array multi dimensional and as seen only the first axis changes."
   ]
  },
  {
   "cell_type": "code",
   "execution_count": 26,
   "metadata": {},
   "outputs": [
    {
     "data": {
      "text/plain": [
       "array([[15, 16, 17, 18, 19],\n",
       "       [ 0,  1,  2,  3,  4],\n",
       "       [ 5,  6,  7,  8,  9],\n",
       "       [10, 11, 12, 13, 14]])"
      ]
     },
     "execution_count": 26,
     "metadata": {},
     "output_type": "execute_result"
    }
   ],
   "source": [
    ">>> shuffexample = np.arange(20).reshape(4,5)\n",
    ">>> np.random.shuffle(shuffexample)\n",
    ">>> shuffexample"
   ]
  },
  {
   "cell_type": "markdown",
   "metadata": {},
   "source": [
    "### permutation() - Randomly permute or rearrange a sequence, or return a rearranged range.\n",
    "\n",
    "Using the range 0-19 by inputting 20 and the range is permuted."
   ]
  },
  {
   "cell_type": "code",
   "execution_count": 28,
   "metadata": {},
   "outputs": [
    {
     "data": {
      "text/plain": [
       "array([ 0,  8, 16,  9, 13, 19,  1,  7, 17, 18,  6,  3, 15, 14, 12,  2,  4,\n",
       "        5, 10, 11])"
      ]
     },
     "execution_count": 28,
     "metadata": {},
     "output_type": "execute_result"
    }
   ],
   "source": [
    ">>> np.random.permutation(20)"
   ]
  },
  {
   "cell_type": "markdown",
   "metadata": {},
   "source": [
    "Similar to shuffle() above in multidimensional arrays only the first axis is permuted as shown below;"
   ]
  },
  {
   "cell_type": "code",
   "execution_count": 29,
   "metadata": {},
   "outputs": [
    {
     "data": {
      "text/plain": [
       "array([[ 0,  1,  2,  3,  4],\n",
       "       [10, 11, 12, 13, 14],\n",
       "       [15, 16, 17, 18, 19],\n",
       "       [ 5,  6,  7,  8,  9]])"
      ]
     },
     "execution_count": 29,
     "metadata": {},
     "output_type": "execute_result"
    }
   ],
   "source": [
    ">>> permexample = np.arange(20).reshape((4, 5))\n",
    ">>> np.random.permutation(permexample)"
   ]
  },
  {
   "cell_type": "markdown",
   "metadata": {},
   "source": [
    "There are two key differences between np.random.permutation() and np.random.shuffle(). \n",
    "\n",
    "- If random.permutation has an array inputted, it returns a shuffled copy of the array. Whereas, np.random.shuffle shuffles the array inplace.\n",
    "\n",
    "\n",
    "\n",
    "- When an integer is inputted into random.permutation(), it will return a shuffled range. Shuffle requires the following coding to do the same, i.e. np.random.shuffle(np.arange(n))"
   ]
  },
  {
   "cell_type": "markdown",
   "metadata": {},
   "source": [
    "# c. Distribution Functions Explanation and Examples\n",
    "\n",
    "## Distributions\n",
    "\n",
    "There are a mulititude of examples of distribution functions and the list of all of these with a short description as adapted from SciPy.org is contained within the ReadMe file of this repository. \n",
    "\n",
    "For the purpose of this assignment the following distribution functions will be introducted and explained with the aid of examples for greater understanding; geometric, logistic, multinomial, normal, standard_normal, triangular and uniform distributions."
   ]
  },
  {
   "cell_type": "markdown",
   "metadata": {},
   "source": [
    "### geometric() - Returns samples from the geometric distribution. \n",
    "\n",
    "The function is called using geometric(p = x, size = y). Where x = the probability and the y is the size of the distribution.\n",
    "\n",
    "The geometric distribution relates to the amount failures one receives before achieving success in a serious of Bernoulli trials. Bernouli Trials details an experiment with exactly two outcomes- success or failure. The primary example of a Bernouli trial is the flipping of a coin.\n",
    "\n",
    "Mathematically, geometric distribution is represented by the probability density function (Statistics How To, 2019):\n",
    "\n",
    "f(x) = (1 − p)$^{x − 1}$p\n",
    "\n",
    "Where x = amount of attempts\n",
    "p = probability\n",
    "\n",
    "The trial retains independence in that each attempt or trial does not affect the previous so (1 - p) can find the inverse of your probability of success to find probability of failure and this can then be multiplied to the attempts minus 1. i.e. $^{x - 1}$.\n",
    "\n",
    "For the example if we used probability as 0.50 or to have a success in one in every two attempts with a size of ten, the following geometric distrbution array of random numbers is returned. The array can be explained as the amount of trial attempts to achieve success and they are graphed using matplotlib to display the trends in the example."
   ]
  },
  {
   "cell_type": "code",
   "execution_count": 30,
   "metadata": {},
   "outputs": [
    {
     "data": {
      "text/plain": [
       "array([2, 1, 2, 1, 2, 1, 1, 2, 1, 2])"
      ]
     },
     "execution_count": 30,
     "metadata": {},
     "output_type": "execute_result"
    }
   ],
   "source": [
    ">>> np.random.geometric(p=0.50, size=10)"
   ]
  },
  {
   "cell_type": "code",
   "execution_count": 5,
   "metadata": {},
   "outputs": [
    {
     "data": {
      "text/plain": [
       "<function matplotlib.pyplot.show(*args, **kw)>"
      ]
     },
     "execution_count": 5,
     "metadata": {},
     "output_type": "execute_result"
    },
    {
     "data": {
      "image/png": "[encoded data removed]",
      "text/plain": [
       "<Figure size 432x288 with 1 Axes>"
      ]
     },
     "metadata": {
      "needs_background": "light"
     },
     "output_type": "display_data"
    }
   ],
   "source": [
    ">>> import matplotlib.pyplot as plt\n",
    ">>> examp = np.random.geometric(p=0.20, size=10)\n",
    ">>> plt.plot(examp)\n",
    ">>> plt.show"
   ]
  },
  {
   "cell_type": "markdown",
   "metadata": {},
   "source": [
    "There are three assumptions associated with the geometric distribution and they are:\n",
    "\n",
    "1. There are two possible outcomes (success and failure) as in the format of a Bernouli Trial.\n",
    "2. Independence between each trial and the latter and the next.\n",
    "3. The probability remains constant in each trial."
   ]
  },
  {
   "cell_type": "markdown",
   "metadata": {},
   "source": [
    "### logistic() - Returns random samples from a logistic distribution. \n",
    "\n",
    "The functions is called using logistic(loc = x, scale = y, size = z), Where loc is location or mean/median (default = 0), y = scale must be greater than 0, z is the size of the distribution, default None.\n",
    "\n",
    "The logistic distribution is a parameterized distrubition where loc and scale are inputs which determine the distrbution. \n",
    "\n",
    "Mathematically, the probability density for the logistic distribution is (SciPY.org):\n",
    "\n",
    "distribution is\n",
    "\n",
    "### P(x) = P(x) = $\\frac{e^{-(x-\\mu)/s}}{s(1+e^{-(x-\\mu)/s})^2}$\n",
    "\n",
    "where ${\\mu}$ = location and s = scale.\n",
    "\n",
    "The logistic distribution is primarily used because it provides a simpler cumulative distribution formula in comparison to other functions whcih can have more difficult or complex mathematical formulas. The formula is said to approximate the normal distribution very well also.\n",
    "\n",
    "Statistics How To and SciPy.org explain that the logistic distribution is used to rank the World Chess Federation members where it assumes their performances are logistically distributed and it can be used as a Gumbel distribution for the extreme value theory.\n",
    "\n",
    "The example shows the logistic() function in the numpy.random package (with loc = 400, Scale = 1, an array size of 10) and a plot there after showing the logic distribution;"
   ]
  },
  {
   "cell_type": "code",
   "execution_count": 36,
   "metadata": {},
   "outputs": [
    {
     "data": {
      "text/plain": [
       "array([398.52538691, 399.84432559, 398.31458715, 401.43362904,\n",
       "       401.00569661, 398.56862596, 397.55416312, 401.2151806 ,\n",
       "       399.89296624, 400.21699175])"
      ]
     },
     "execution_count": 36,
     "metadata": {},
     "output_type": "execute_result"
    }
   ],
   "source": [
    ">>> np.random.logistic(400, 1, 10)"
   ]
  },
  {
   "cell_type": "code",
   "execution_count": 37,
   "metadata": {},
   "outputs": [
    {
     "data": {
      "image/png": "[encoded data removed]",
      "text/plain": [
       "<Figure size 432x288 with 1 Axes>"
      ]
     },
     "metadata": {
      "needs_background": "light"
     },
     "output_type": "display_data"
    }
   ],
   "source": [
    ">>> logexamp = np.random.logistic(400, 1, 10)\n",
    ">>> counts, bins, ignored = plt.hist(logexamp, bins=50)"
   ]
  },
  {
   "cell_type": "markdown",
   "metadata": {},
   "source": [
    "### multinomial() - Returns random samples from a multinomial distribution. \n",
    "\n",
    "The functions is called using multinomial(n = x, pvals = y, size = z), Where x is number of experiments, y = probabilities of the p outcomes or pvals and should some to 1, z is the size of the distribution, default None.\n",
    "\n"
   ]
  },
  {
   "cell_type": "code",
   "execution_count": 38,
   "metadata": {},
   "outputs": [
    {
     "data": {
      "text/plain": [
       "array([[ 9, 10, 11, 11,  9],\n",
       "       [12, 11, 10,  9,  8],\n",
       "       [ 7, 11, 11, 11, 10],\n",
       "       [ 3,  9, 13,  7, 18],\n",
       "       [10,  8, 13,  8, 11],\n",
       "       [15, 13,  9,  7,  6],\n",
       "       [12,  8, 11,  7, 12],\n",
       "       [ 8, 13, 13, 10,  6],\n",
       "       [10, 10,  7, 12, 11],\n",
       "       [13,  7,  9, 13,  8]])"
      ]
     },
     "execution_count": 38,
     "metadata": {},
     "output_type": "execute_result"
    }
   ],
   "source": [
    ">>> np.random.multinomial(50, [1/5.]*5, size=10)"
   ]
  },
  {
   "cell_type": "markdown",
   "metadata": {},
   "source": [
    "As seen with the 50 inputs, the probabilities of 1 in every 5 times are rounded to 1 as expected and there are 10 dimensional arrays of 5 values. \n",
    "\n",
    "The best way to exemplify a multinomial distribution as seen in various sources is the example of rolling a dice. The following 5 array outputs shows the random distribution of times a dice lands on a side of a die in the format [1,2,...5,6] where 1 is the number 1, 2 is the number 2, etc., for each 10 rolls and the graph shows the distribution."
   ]
  },
  {
   "cell_type": "code",
   "execution_count": 39,
   "metadata": {},
   "outputs": [
    {
     "name": "stdout",
     "output_type": "stream",
     "text": [
      "[[3 2 0 1 1 3]\n",
      " [1 3 0 2 0 4]\n",
      " [1 0 0 2 5 2]\n",
      " [3 2 1 1 2 1]\n",
      " [1 4 1 1 2 1]]\n"
     ]
    }
   ],
   "source": [
    ">>> diceroll = np.random.multinomial(10, [1/6.]*6, size=5)\n",
    ">>> #Rolls within 10 attempts which land on each number on a dice.\" \n",
    ">>> #Where each value in the array represents the roll for sides 1 to 6\n",
    ">>> print(diceroll)"
   ]
  },
  {
   "cell_type": "code",
   "execution_count": 45,
   "metadata": {},
   "outputs": [
    {
     "name": "stdout",
     "output_type": "stream",
     "text": [
      "[1 1 2 2 0 4]\n"
     ]
    }
   ],
   "source": [
    ">>> loadeddice = np.random.multinomial(10, [1/7.]*5 + [2/7.])\n",
    ">>> # Rolls within 10 attempts where the dice is loaded \n",
    ">>> #shows a greater probability weighting to landing on the number 6\n",
    ">>> print(loadeddice)"
   ]
  },
  {
   "cell_type": "markdown",
   "metadata": {},
   "source": [
    "### normal() - Returns random samples from a normal (Gaussian) distribution.\n",
    "\n",
    "The function is called using normal(loc = x, scale = y, size = z), Where x is the specified mean of the distribution, y = specified standard deviation of the distribution and z is the size or shape of the distribution, default None.\n",
    "\n",
    "The normal distribution or the Gaussian distribution is often called the bell curve called as such for its shape as seen in the example below. The normal distributions can occur naturally and can explain the output of tests results where 50 percent occur less than the mean and 50 percent more than the mean.\n",
    "\n",
    "The properties of a normal or Gaussian distribution are as follows:\n",
    "\n",
    "- The mean, mode and median are the same.\n",
    "- The curve is symmetric at the mean.\n",
    "- The mean splits the distribution exactly in half with the same amounts left as right.\n",
    "- The area in total under the bell curve equals 1.\n",
    "\n",
    "The probability density for the Gaussian distribution is (adapted from SciPy.org)L\n",
    "\n",
    "#### P(x) = $\\frac{1}{\\sqrt{ 2 \\pi \\sigma^2 }}$ $e^{ - \\frac{ (x - \\mu)^2 } {2 \\sigma^2} }$\n",
    "\n",
    "where $\\mu$ is the mean and \\sigma the standard deviation. The square of the standard deviation, $\\sigma^2$, is called the variance.\n",
    "\n",
    "The normal() function converges at the mean with its highest point and the standard deviation or the spread from the mean increases symbiotically, meaning that there are generally more distribution samples close to the mean than farther away.\n",
    "\n",
    "For the first example, if you use 10 as the loc, 0.1 as the standard deviation and 10 as the shape you will receive an array which does not deviate far from the mean of ten with many of the samples within the standard deviation and those closer to the mean from the 10 samples."
   ]
  },
  {
   "cell_type": "code",
   "execution_count": 5,
   "metadata": {},
   "outputs": [
    {
     "data": {
      "text/plain": [
       "(array([3., 0., 1., 4., 2.]),\n",
       " array([ 9.80550428,  9.85896304,  9.9124218 ,  9.96588056, 10.01933932,\n",
       "        10.07279808]),\n",
       " <a list of 5 Patch objects>)"
      ]
     },
     "execution_count": 5,
     "metadata": {},
     "output_type": "execute_result"
    },
    {
     "data": {
      "image/png": "[encoded data removed]",
      "text/plain": [
       "<Figure size 432x288 with 1 Axes>"
      ]
     },
     "metadata": {
      "needs_background": "light"
     },
     "output_type": "display_data"
    }
   ],
   "source": [
    ">>> import matplotlib.pyplot as plt\n",
    ">>> normexample1 = np.random.normal(10, 0.10, 10)\n",
    ">>> plt.hist(normexample1, 5)"
   ]
  },
  {
   "cell_type": "markdown",
   "metadata": {},
   "source": [
    "The same normal distribution results can be achieved, and even more accurately by increasing the size or shape (from 10 to 100000) of the distribution as shown below. The mean height of the distribution increases leaving a higher centre and the ability to see the bell curves shape forming:"
   ]
  },
  {
   "cell_type": "code",
   "execution_count": 50,
   "metadata": {},
   "outputs": [
    {
     "data": {
      "image/png": "[encoded data removed]",
      "text/plain": [
       "<Figure size 432x288 with 1 Axes>"
      ]
     },
     "metadata": {
      "needs_background": "light"
     },
     "output_type": "display_data"
    }
   ],
   "source": [
    ">>> normexample2 = np.random.normal(10, 0.10, 100000)\n",
    ">>> counts, bins, ignored = plt.hist(normexample2, 5)"
   ]
  },
  {
   "cell_type": "markdown",
   "metadata": {},
   "source": [
    "When we change the standard deviation from 0.10  to 0.40 and retain the shape as 100000 and the mean as 10, we achieve the following distribution;"
   ]
  },
  {
   "cell_type": "code",
   "execution_count": 62,
   "metadata": {},
   "outputs": [
    {
     "data": {
      "image/png": "[encoded data removed]",
      "text/plain": [
       "<Figure size 432x288 with 1 Axes>"
      ]
     },
     "metadata": {
      "needs_background": "light"
     },
     "output_type": "display_data"
    }
   ],
   "source": [
    "normexample3 = np.random.normal(10, 0.40, 100000)\n",
    "counts, bins, ignored = plt.hist(normexample3, 5)"
   ]
  },
  {
   "cell_type": "markdown",
   "metadata": {},
   "source": [
    "As you can see the shape of the graphed normal distribution does not change massively and is normalised. The biggest change is the x axis increasing to account for the increase in the standard deviation from the mean. \n",
    "\n",
    "The last example is used to fully show the bell curve shape as an example of the normal (Gaussian) distribution using Seaborn package, where the mean of 10 is at the height of the curve and the spread or standard deviation of 0.60 expands equally from it througout the return size of 100000:"
   ]
  },
  {
   "cell_type": "code",
   "execution_count": 67,
   "metadata": {},
   "outputs": [
    {
     "data": {
      "text/plain": [
       "<matplotlib.axes._subplots.AxesSubplot at 0x1e3832a3470>"
      ]
     },
     "execution_count": 67,
     "metadata": {},
     "output_type": "execute_result"
    },
    {
     "data": {
      "image/png": "[encoded data removed]",
      "text/plain": [
       "<Figure size 432x288 with 1 Axes>"
      ]
     },
     "metadata": {
      "needs_background": "light"
     },
     "output_type": "display_data"
    }
   ],
   "source": [
    ">>> import seaborn as sns\n",
    ">>> normexample4 = np.random.normal(10, 0.60, 100000)\n",
    ">>> sns.distplot(normexample4)"
   ]
  },
  {
   "cell_type": "markdown",
   "metadata": {},
   "source": [
    "### standard_normal() - Returns samples from a standard Normal (Gaussian) distribution where mean is 0 and  standard deviation is 1."
   ]
  },
  {
   "cell_type": "markdown",
   "metadata": {},
   "source": [
    "Following on from this the standard_normal distribution function returns a normal distribution with a standardised mean of 0 and standard deviation of 1 and the input is of the function is the size or shape.\n",
    "\n",
    "The example below returns a standard_normal distribution with a size of 100 as inputted;"
   ]
  },
  {
   "cell_type": "code",
   "execution_count": 75,
   "metadata": {},
   "outputs": [
    {
     "data": {
      "text/plain": [
       "array([-3.77669922e-02,  6.86474496e-01,  5.77608489e-01,  7.33249094e-02,\n",
       "        1.77822878e-01,  4.20048475e-01, -2.10839032e+00, -1.26632602e-01,\n",
       "       -4.91917960e-01,  8.42929342e-01, -3.01915706e-01, -3.29665854e-01,\n",
       "       -1.09423078e-01,  1.22451890e+00, -2.00013320e-01,  3.51680823e-01,\n",
       "       -3.53613035e-01,  3.13238846e+00, -1.54847228e+00,  1.88104250e-01,\n",
       "       -5.53466972e-01,  1.05423015e+00,  3.63674677e-01, -6.15928351e-01,\n",
       "       -3.75816353e-01,  1.21392403e+00, -1.09446218e+00, -2.75173743e-04,\n",
       "        1.68375792e+00, -1.23661745e-01, -3.87678553e-01, -6.72779172e-01,\n",
       "       -1.14623197e+00,  2.10921998e-01,  1.48499666e-01,  1.89714273e-01,\n",
       "       -1.63539120e-01,  7.19876060e-01,  1.25133903e-01, -2.50357169e-01,\n",
       "        6.35478213e-01, -9.20061944e-02, -1.03436805e+00, -2.73133219e-01,\n",
       "        1.35069904e+00, -1.32231914e+00,  1.97160585e-01,  9.24079068e-02,\n",
       "       -1.10316143e+00, -2.25947091e+00, -1.27477753e+00,  7.02716622e-01,\n",
       "        1.29289593e+00,  1.62593275e+00,  7.62955087e-01,  1.31012469e+00,\n",
       "        4.26715436e-01,  8.04575829e-01,  9.06220821e-01, -8.02448701e-01,\n",
       "        1.17539483e+00,  1.11594788e+00, -5.27936082e-01, -1.22241509e-01,\n",
       "       -2.05975766e+00, -6.65922995e-01, -6.35627022e-02, -3.24078435e-01,\n",
       "       -1.27473743e+00,  3.81968578e-01, -4.56517083e-01,  1.78385670e+00,\n",
       "       -3.33133852e-01,  4.26160874e-01,  8.59522187e-01, -2.55527995e+00,\n",
       "       -1.73652547e+00,  7.33665267e-01, -1.53933927e+00,  1.62162611e-01,\n",
       "       -9.54692281e-01, -1.62377262e+00,  5.51109944e-01, -1.01373062e+00,\n",
       "       -5.53488235e-01,  9.64012103e-01,  2.09578615e-01, -4.00516538e-01,\n",
       "        1.86835494e+00,  3.11599372e-02,  1.22591608e+00,  1.80958692e+00,\n",
       "       -4.77150977e-01,  6.46962111e-01, -1.89962296e+00,  1.22440704e-01,\n",
       "        4.70495902e-01, -4.19194805e-01, -8.36401614e-01,  5.25049839e-01])"
      ]
     },
     "execution_count": 75,
     "metadata": {},
     "output_type": "execute_result"
    }
   ],
   "source": [
    ">>> np.random.standard_normal(100)"
   ]
  },
  {
   "cell_type": "markdown",
   "metadata": {},
   "source": [
    "The second example shows a scatter plot mapping random.normal and random.standard_normal where both have a shape of 10. \n",
    "\n",
    "As seen the standard deviation of 'a' is 0.20 and the mean is 10 in random.normal function and the normal disribution shows the mean focusing around 0.00 with standard deviation of 1."
   ]
  },
  {
   "cell_type": "code",
   "execution_count": 7,
   "metadata": {},
   "outputs": [
    {
     "data": {
      "image/png": "[encoded data removed]",
      "text/plain": [
       "<Figure size 432x288 with 1 Axes>"
      ]
     },
     "metadata": {
      "needs_background": "light"
     },
     "output_type": "display_data"
    }
   ],
   "source": [
    ">>> a = np.random.normal(10, 0.20, 10)\n",
    ">>> b = np.random.standard_normal(10)\n",
    "\n",
    ">>> plt.scatter(b, a)\n",
    ">>> plt.xlabel('Normal')\n",
    ">>> plt.ylabel('Standard Normal')\n",
    ">>> plt.show()"
   ]
  },
  {
   "cell_type": "markdown",
   "metadata": {},
   "source": [
    "### triangular(left, mode, right[, size]) - Returns samples from the triangular distribution over the interval [left, right].\n",
    "\n",
    "The triangular distribution in line as opposed to Normal distribution is a continuous probability distribution.\n",
    "\n",
    "The lower limit is at the left, the mode in the middle with the peak and upper limit to the right giving a triangular shaped output. As opposed to other distributions the inputs define exactly the shape of the distribution.\n",
    "\n",
    "The probability density function for the triangular distribution is\n",
    "\n",
    "P(x;l, m, r) = $\\begin{cases}\n",
    "\\frac{2(x-l)}{(r-l)(m-l)}& \\text{for $l \\leq x \\leq m$},\\\\\n",
    "\\frac{2(r-x)}{(r-l)(r-m)}& \\text{for $m \\leq x \\leq r$},\\\\\n",
    "0& \\text{otherwise}.\n",
    "\\end{cases}$\n",
    "\n",
    "The triangular distribution is often used in simulations and can be utilized if fully inputs are not known are defined to create a probability distribution.\n",
    "\n",
    "In the example below; the left of the graph is -5, the mode is 0 and the right is 10. The shape is then inputted as 100000 which is divided throughout the left - mode - right distribution creating the triangular shape;"
   ]
  },
  {
   "cell_type": "code",
   "execution_count": 6,
   "metadata": {},
   "outputs": [
    {
     "data": {
      "image/png": "[encoded data removed]",
      "text/plain": [
       "<Figure size 432x288 with 1 Axes>"
      ]
     },
     "metadata": {
      "needs_background": "light"
     },
     "output_type": "display_data"
    }
   ],
   "source": [
    ">>> triangexamp = plt.hist(np.random.triangular(-5, 0, 10, 100000), bins=200)\n",
    ">>> plt.show()"
   ]
  },
  {
   "cell_type": "code",
   "execution_count": 7,
   "metadata": {},
   "outputs": [
    {
     "data": {
      "image/png": "[encoded data removed]",
      "text/plain": [
       "<Figure size 432x288 with 1 Axes>"
      ]
     },
     "metadata": {
      "needs_background": "light"
     },
     "output_type": "display_data"
    }
   ],
   "source": [
    ">>> left, mode, right = -100, 0, 1000\n",
    ">>> triangexamp = plt.hist(np.random.triangular(left, mode, right, 1000))\n",
    ">>> plt.show()"
   ]
  },
  {
   "cell_type": "markdown",
   "metadata": {},
   "source": [
    "### uniform() - Returns samples from a uniform distribution or rectangular distribution.\n",
    "\n",
    "The function is called using uniform(low = x, high = y, size = z), Where x is the low or minimum of the distribution, y = high or the minimum of the distribution and z is the size or shape of the distribution, default None.\n",
    "\n",
    "It is a probability distribution which has a constant probability and is defined by two parameters low and high and the area under the graph equals to 1. There are two rectangular types; continuous uniform distribution, rectangular in shape, discrete uniform distribution where the uppermost part of the rectangle is in the form of singular points or dots representing finite number of outcomes and a line type known as uniform cumulative distribution.\n",
    "\n",
    "It is the distribution linked with the simple random data functions; randint, random_integers, random_sample, random and rand from above.\n",
    "\n",
    "The probability density function of the uniform distribution is\n",
    "\n",
    "### P(x) = $\\frac{1}{b - a}$\n",
    "\n",
    "The below demonstrates 2 examples, shown in a graph with a red line indicating the uniform distribution;"
   ]
  },
  {
   "cell_type": "code",
   "execution_count": 8,
   "metadata": {},
   "outputs": [
    {
     "data": {
      "image/png": "[encoded data removed]",
      "text/plain": [
       "<Figure size 432x288 with 1 Axes>"
      ]
     },
     "metadata": {
      "needs_background": "light"
     },
     "output_type": "display_data"
    }
   ],
   "source": [
    ">>> uni1 = np.random.uniform(0,1,100)\n",
    ">>> count, bins, ignored = plt.hist(uni1, 50) \n",
    "\n",
    ">>> plt.xlabel('Low to High')\n",
    ">>> plt.ylabel('Count')\n",
    ">>> plt.axis([0, 1, 0, 5])\n",
    ">>> plt.plot(np.ones_like(bins), linewidth=4, color='r')\n",
    ">>> plt.show()"
   ]
  },
  {
   "cell_type": "code",
   "execution_count": 9,
   "metadata": {},
   "outputs": [
    {
     "data": {
      "image/png": "[encoded data removed]",
      "text/plain": [
       "<Figure size 432x288 with 1 Axes>"
      ]
     },
     "metadata": {
      "needs_background": "light"
     },
     "output_type": "display_data"
    }
   ],
   "source": [
    ">>> uniform2 = np.random.uniform(-10,500,10)\n",
    ">>> count, bins, ignored = plt.hist(uniform2)\n",
    ">>> plt.plot(bins, np.ones_like(bins), linewidth=4, color='r')\n",
    ">>> plt.show()"
   ]
  },
  {
   "cell_type": "markdown",
   "metadata": {},
   "source": [
    "# d. Use of Seeds in Generating Pseudorandom Numbers\n",
    "\n",
    "The NumPy random seed function is called using numpy.random.seed() or np.random.seed() as per examples, where x is the input or seed of the function. The function relates to the use of pseudorandom numbers and pseudorandom number generators. \n",
    "\n",
    "The numpy.random.seed() function itself is simple to use but the understanding of why it is used and its use of pseudorandom numbers is a little harder to comprehend. \n",
    "\n",
    "The random seed function sets the random seed in the pseudorandom number generator or PRNG for short and python utilises a PRNG known as the Mersenne Twister.\n",
    "\n",
    "The function provides an essential input required for the PRNG to return pseudo-random numbers for random processes such as those explained above. \n",
    "\n",
    "The pseudo random numbers seem to be entirely random when returned but in being \"pseudo\" random the numbers are actually predetermined as all computerised outputs are deterministic in nature. To randomise this the computer uses algorithms in the form of a PRNG to assume complete randomness and the following is an example as seen on Sharp Sight's (2019) article:"
   ]
  },
  {
   "cell_type": "code",
   "execution_count": 9,
   "metadata": {},
   "outputs": [
    {
     "data": {
      "text/plain": [
       "array([38, 13, 73, 10, 76,  6, 80, 65, 17,  2, 77, 72,  7, 26, 51, 21, 19,\n",
       "       85, 12, 29, 30, 15, 51, 69, 88, 88, 95, 97, 87, 14, 10,  8, 64, 62,\n",
       "       23, 58,  2,  1, 61, 82,  9, 89, 14, 48, 73, 31, 72,  4, 71, 22])"
      ]
     },
     "execution_count": 9,
     "metadata": {},
     "output_type": "execute_result"
    }
   ],
   "source": [
    ">>> np.random.seed(1)\n",
    ">>> np.random.randint(low = 1, high = 100, size = 50)"
   ]
  },
  {
   "cell_type": "code",
   "execution_count": 10,
   "metadata": {},
   "outputs": [
    {
     "data": {
      "text/plain": [
       "array([38, 13, 73, 10, 76,  6, 80, 65, 17,  2, 77, 72,  7, 26, 51, 21, 19,\n",
       "       85, 12, 29, 30, 15, 51, 69, 88, 88, 95, 97, 87, 14, 10,  8, 64, 62,\n",
       "       23, 58,  2,  1, 61, 82,  9, 89, 14, 48, 73, 31, 72,  4, 71, 22])"
      ]
     },
     "execution_count": 10,
     "metadata": {},
     "output_type": "execute_result"
    }
   ],
   "source": [
    ">>> np.random.seed(1)\n",
    ">>> np.random.randint(low = 1, high = 100, size = 50)"
   ]
  },
  {
   "cell_type": "markdown",
   "metadata": {},
   "source": [
    "As you can seen although utilising two \"random\" functions, the random.seed() and the random.randint() functions, which both utilise PRNG's the same results are returned.\n",
    "\n",
    "The determinism in random generation is all related to inputs. The random.seed() function provides a base or 'seed' input for the pseudorandom number generator to process and the removal of the random seed's input for the same function as above will show the difference in the pseudorandom number generation;"
   ]
  },
  {
   "cell_type": "code",
   "execution_count": 11,
   "metadata": {},
   "outputs": [
    {
     "data": {
      "text/plain": [
       "array([68, 99, 49, 98, 45, 37, 27, 48, 65, 31, 94, 29, 35, 33, 99, 94,  6,\n",
       "       47,  5, 59, 45, 50, 56,  4,  9, 67, 60, 44, 23, 46, 61, 65, 55, 14,\n",
       "       24, 13, 47, 62, 49, 54, 16, 35, 62, 60, 47, 72, 14, 48, 46, 30])"
      ]
     },
     "execution_count": 11,
     "metadata": {},
     "output_type": "execute_result"
    }
   ],
   "source": [
    ">>> np.random.seed()\n",
    ">>> np.random.randint(low = 1, high = 100, size = 50)"
   ]
  },
  {
   "cell_type": "code",
   "execution_count": 12,
   "metadata": {},
   "outputs": [
    {
     "data": {
      "text/plain": [
       "array([40, 69,  3, 69, 94, 94, 34, 75, 40, 91, 44, 73,  6, 79, 86, 17, 53,\n",
       "       49, 62, 86, 15, 42, 22, 25, 32, 55, 78, 75, 35,  8, 96, 55, 16, 36,\n",
       "       80, 38, 56, 39, 11, 38, 33,  6, 19, 23, 77, 33, 15, 54, 20, 13])"
      ]
     },
     "execution_count": 12,
     "metadata": {},
     "output_type": "execute_result"
    }
   ],
   "source": [
    ">>> np.random.seed()\n",
    ">>> np.random.randint(low = 1, high = 100, size = 50)"
   ]
  },
  {
   "cell_type": "markdown",
   "metadata": {},
   "source": [
    "The removal of the '1' (or any) random.seed() input return the PRNG to generating different outputs each time.\n",
    "\n",
    "This reinforces that computers are deterministic and allow for repetition of random number generation which can be beneficial for coding purposes (Brownlee, 2019). The random.seed() function can be used with numbers and arrays in any of the numpy.random functions where the 'seed' produces the same output as seen below using the random.choice() funtion:"
   ]
  },
  {
   "cell_type": "code",
   "execution_count": 13,
   "metadata": {},
   "outputs": [
    {
     "data": {
      "text/plain": [
       "array([ 6,  1,  4,  4,  8, 10,  4,  6,  3,  5])"
      ]
     },
     "execution_count": 13,
     "metadata": {},
     "output_type": "execute_result"
    }
   ],
   "source": [
    ">>> np.random.seed(0)\n",
    ">>> np.random.choice(a = [1,2,3,4,5,6,7,8,9,10], size = 10)"
   ]
  },
  {
   "cell_type": "code",
   "execution_count": 14,
   "metadata": {},
   "outputs": [
    {
     "data": {
      "text/plain": [
       "array([ 6,  1,  4,  4,  8, 10,  4,  6,  3,  5])"
      ]
     },
     "execution_count": 14,
     "metadata": {},
     "output_type": "execute_result"
    }
   ],
   "source": [
    ">>> np.random.seed(0)\n",
    ">>> np.random.choice(a = [1,2,3,4,5,6,7,8,9,10], size = 10)"
   ]
  },
  {
   "cell_type": "markdown",
   "metadata": {},
   "source": [
    "The benefit of seeding your function is repetition in that the same outputs will be returned and not producing different outputs every time the code is run. If you change the seed, similarly, the code output will change and if the random.seed() function is not called by the user the 'seed' is provided automatically. \n",
    "\n",
    "The primary uses of random seeds to generate pseudorandom number generators are obviously random sampling, as shown, probability and statistics as eluded to, deep learning and thus, machine learning (SharpSight, 2019)."
   ]
  },
  {
   "cell_type": "markdown",
   "metadata": {},
   "source": [
    "# Conclusion\n",
    "\n",
    "Firstly, the numpy.random package has been detailed with particular emphasis on its use and its purpose. \n",
    "\n",
    "Secondlym the simple random data and permutation functions where introduced with the help of examples. \n",
    "\n",
    "Thirdly, seven of the distribution functions were detailed to give an indication of the range of functions numpy.random possesses. \n",
    "\n",
    "Finally, pseudorandom number generator, pseudorandomness and the use of seeds in generating such were explained."
   ]
  },
  {
   "cell_type": "markdown",
   "metadata": {},
   "source": [
    "# Reference List\n",
    "#### ReadME contains explanations of certain assignment content.\n",
    "### Class Content, Background Reading and Python Learning Tutorials were preliminary references supplemented by the following list of references;\n",
    "\n",
    "1. Python Software Foundation. Accessed online at: https://www.python.org/\n",
    "2. w3Schools.com Tutorials. Accessed online at: https://www.w3schools.com\n",
    "3. Python by Programiz Tutorials. Accessed online at: https://www.programiz.com/\n",
    "3. Pandas: Python Data Analysis Library. Accessed online at: https://pandas.pydata.org.\n",
    "4. NumPy. Accessed online at: http://www.numpy.org\n",
    "5. Stack Overflow - Various queries for comparison and improving code output. Accessed online at: https://stackoverflow.com\n",
    "6. SciPy.org (2019) Random Sampling (numpy.random). Accessed online at: https://docs.scipy.org/doc/numpy-1.14.0/reference/routines.random.html\n",
    "7. SciPy.org (2019) numpy.random.permutation. Accessed online at: https://docs.scipy.org/doc/numpy-1.14.0/reference/generated/numpy.random.permutation.html\n",
    "8. SciPy.org (2019) Quickstart Tutorial. Accessed online at: https://docs.scipy.org/doc/numpy/user/quickstart.html\n",
    "9. Numpy.org (2019) Random Sampling (numpy.random). Accessed online at: https://numpy.org/doc/1.17/reference/random/index.html\n",
    "10. Jupyter Documentation (2019) Installing Jupyter Notebook. Accessed online at: https://jupyter.readthedocs.io/en/latest/install.html\n",
    "11. DataCamp (2019) Tutorial on Jupyter Notebook Creation. Accessed online at: https://www.datacamp.com/community/tutorials/tutorial-jupyter-notebook?utm_source=adwords_ppc&utm_campaignid=898687156&utm_adgroupid=48947256715&utm_device=c&utm_keyword=&utm_matchtype=b&utm_network=g&utm_adpostion=1t1&utm_creative=332602034352&utm_targetid=dsa-473406581035&utm_loc_interest_ms=&utm_loc_physical_ms=20474&gclid=EAIaIQobChMIm_T_iu_S5QIVxLHtCh115QCvEAAYASAAEgKNHfD_BwE\n",
    "12. Tutorialspoint (2019) NumPy Tutorial. Accessed online at: https://www.tutorialspoint.com/numpy/index.htm. \n",
    "13. NumPy Community (2017) NumPy User Guide. Accessed online at: https://numpy.org/doc/_downloads/numpy-user-1.13.0.pdf\n",
    "14. Pynative (2019) Python Random Number Generation tutorial. Accessed online at: https://pynative.com/python-random-module/\n",
    "15. Brownlee, J. (2018) How to Generate Random Numbers in Python. Machine Learning Mastery. Accessed online at: https://machinelearningmastery.com/how-to-generate-random-numbers-in-python/\n",
    "16. Geeks for Geeks (2019) Random sampling in numpy | random_sample() function. Accessed online at: https://www.geeksforgeeks.org/random-sampling-in-numpy-random_sample-function/amp/\n",
    "17. Phuong, V. T. H and Cyzgan, M. (2015) Getting Started with Python Data Analysis. Accessed online at: https://subscription.packtpub.com/book/big_data_and_business_intelligence/9781785285110/backindex\n",
    "18. Marsland, S. (2015) Machine Learning: An Algorithmic Perspective. Taylor and Francis Group.\n",
    "19. Statistics How To (2019) Geometric Distribution: Definition & Example. Accessed online at: https://www.statisticshowto.datasciencecentral.com/geometric-distribution/\n",
    "20. Jupyter Notebook (2019) The Jupyter Notebook. Accessed online at: https://jupyter-notebook.readthedocs.io/en/stable/index.html\n",
    "21. matplotlib (2019) Pyplot Tutorial. Accessed online at: https://matplotlib.org/3.1.1/tutorials/introductory/pyplot.html.\n",
    "22. WolframMathWorld (2019) Gumbel Distribution. Accessed online at: http://mathworld.wolfram.com/GumbelDistribution.html.\n",
    "23. Mathematical Python (2019) LaTeX. Accessed online at: https://www.math.ubc.ca/~pwalls/math-python/jupyter/latex/.\n",
    "24. Seaborn (2019) Official Seaborn Tutorial. Accessed online at: https://seaborn.pydata.org/tutorial.html\n",
    "25. Sharpsight(2019) NumPy Random Seeds Expalined. Accessed online at: https://www.sharpsightlabs.com/blog/numpy-random-seed/#numpy-random-seed-examples\n"
   ]
  }
 ],
 "metadata": {
  "kernelspec": {
   "display_name": "Python 3",
   "language": "python",
   "name": "python3"
  },
  "language_info": {
   "codemirror_mode": {
    "name": "ipython",
    "version": 3
   },
   "file_extension": ".py",
   "mimetype": "text/x-python",
   "name": "python",
   "nbconvert_exporter": "python",
   "pygments_lexer": "ipython3",
   "version": "3.7.3"
  }
 },
 "nbformat": 4,
 "nbformat_minor": 2
}
